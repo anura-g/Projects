{
 "cells": [
  {
   "cell_type": "code",
   "execution_count": 1,
   "metadata": {},
   "outputs": [],
   "source": [
    "import requests\n",
    "import pandas as pd\n",
    "import time \n",
    "from datetime import datetime, timedelta "
   ]
  },
  {
   "cell_type": "code",
   "execution_count": 2,
   "metadata": {},
   "outputs": [],
   "source": [
    "apiUrl = \"https://api.pro.coinbase.com\"\n",
    "sym = \"BTC-GBP\"\n",
    "barSize = \"60\" \n",
    "timeEnd = datetime.now()\n",
    "delta = timedelta(seconds = int(barSize))\n",
    "timeStart = timeEnd - (300*delta)\n",
    "timeStart = timeStart.isoformat()\n",
    "timeEnd = timeEnd.isoformat()"
   ]
  },
  {
   "cell_type": "code",
   "execution_count": 3,
   "metadata": {},
   "outputs": [],
   "source": [
    "parameters = {\n",
    "        \"start\" : timeStart,\n",
    "        \"end\" : timeEnd,\n",
    "        \"granularity\" : barSize\n",
    "}"
   ]
  },
  {
   "cell_type": "code",
   "execution_count": 4,
   "metadata": {},
   "outputs": [],
   "source": [
    "data = requests.get(f\"{apiUrl}/products/{sym}/candles\",\n",
    "                    params = parameters,\n",
    "                    headers = {\"content-type\" : \"application/json\"})"
   ]
  },
  {
   "cell_type": "code",
   "execution_count": 5,
   "metadata": {},
   "outputs": [],
   "source": [
    "df = pd.DataFrame(data.json(),\n",
    "                 columns = [\"time\", \"low\", \"high\", \"open\", \"close\", \"volume\"])"
   ]
  },
  {
   "cell_type": "code",
   "execution_count": 6,
   "metadata": {},
   "outputs": [],
   "source": [
    "df[\"date\"] = pd.to_datetime(df[\"time\"], unit='s')"
   ]
  },
  {
   "cell_type": "code",
   "execution_count": 7,
   "metadata": {},
   "outputs": [],
   "source": [
    "df = df[[\"date\", \"open\", \"high\", \"low\", \"close\"]]"
   ]
  },
  {
   "cell_type": "code",
   "execution_count": 8,
   "metadata": {},
   "outputs": [],
   "source": [
    "df.set_index(\"date\", inplace = True)"
   ]
  },
  {
   "cell_type": "markdown",
   "metadata": {},
   "source": [
    "The method below is useful if I wanted to aggregate the data into chunks of minutes, e.g. 2 'minutely' data. This is useful since the official coinbase api has fixed set time intervals."
   ]
  },
  {
   "cell_type": "code",
   "execution_count": 9,
   "metadata": {},
   "outputs": [],
   "source": [
    "# df = df.resample(\"2 min\").agg({\n",
    "#     \"open\" : \"first\",\n",
    "#     \"high\" : \"max\", \n",
    "#     \"low\" : \"min\",\n",
    "#     \"close\" : \"last\"}) "
   ]
  },
  {
   "cell_type": "code",
   "execution_count": 10,
   "metadata": {},
   "outputs": [],
   "source": [
    "df = df.dropna() #get rid of null data "
   ]
  },
  {
   "cell_type": "code",
   "execution_count": 11,
   "metadata": {},
   "outputs": [
    {
     "data": {
      "text/html": [
       "<div>\n",
       "<style scoped>\n",
       "    .dataframe tbody tr th:only-of-type {\n",
       "        vertical-align: middle;\n",
       "    }\n",
       "\n",
       "    .dataframe tbody tr th {\n",
       "        vertical-align: top;\n",
       "    }\n",
       "\n",
       "    .dataframe thead th {\n",
       "        text-align: right;\n",
       "    }\n",
       "</style>\n",
       "<table border=\"1\" class=\"dataframe\">\n",
       "  <thead>\n",
       "    <tr style=\"text-align: right;\">\n",
       "      <th></th>\n",
       "      <th>open</th>\n",
       "      <th>high</th>\n",
       "      <th>low</th>\n",
       "      <th>close</th>\n",
       "    </tr>\n",
       "    <tr>\n",
       "      <th>date</th>\n",
       "      <th></th>\n",
       "      <th></th>\n",
       "      <th></th>\n",
       "      <th></th>\n",
       "    </tr>\n",
       "  </thead>\n",
       "  <tbody>\n",
       "    <tr>\n",
       "      <td>2022-02-02 07:23:00</td>\n",
       "      <td>28358.78</td>\n",
       "      <td>28358.78</td>\n",
       "      <td>28358.78</td>\n",
       "      <td>28358.78</td>\n",
       "    </tr>\n",
       "    <tr>\n",
       "      <td>2022-02-02 07:22:00</td>\n",
       "      <td>28347.13</td>\n",
       "      <td>28360.32</td>\n",
       "      <td>28341.15</td>\n",
       "      <td>28354.39</td>\n",
       "    </tr>\n",
       "    <tr>\n",
       "      <td>2022-02-02 07:21:00</td>\n",
       "      <td>28337.91</td>\n",
       "      <td>28341.99</td>\n",
       "      <td>28337.91</td>\n",
       "      <td>28341.99</td>\n",
       "    </tr>\n",
       "    <tr>\n",
       "      <td>2022-02-02 07:20:00</td>\n",
       "      <td>28340.35</td>\n",
       "      <td>28343.35</td>\n",
       "      <td>28337.54</td>\n",
       "      <td>28337.91</td>\n",
       "    </tr>\n",
       "    <tr>\n",
       "      <td>2022-02-02 07:19:00</td>\n",
       "      <td>28340.07</td>\n",
       "      <td>28347.05</td>\n",
       "      <td>28337.89</td>\n",
       "      <td>28339.47</td>\n",
       "    </tr>\n",
       "  </tbody>\n",
       "</table>\n",
       "</div>"
      ],
      "text/plain": [
       "                         open      high       low     close\n",
       "date                                                       \n",
       "2022-02-02 07:23:00  28358.78  28358.78  28358.78  28358.78\n",
       "2022-02-02 07:22:00  28347.13  28360.32  28341.15  28354.39\n",
       "2022-02-02 07:21:00  28337.91  28341.99  28337.91  28341.99\n",
       "2022-02-02 07:20:00  28340.35  28343.35  28337.54  28337.91\n",
       "2022-02-02 07:19:00  28340.07  28347.05  28337.89  28339.47"
      ]
     },
     "execution_count": 11,
     "metadata": {},
     "output_type": "execute_result"
    }
   ],
   "source": [
    "df.head()"
   ]
  },
  {
   "cell_type": "code",
   "execution_count": 12,
   "metadata": {},
   "outputs": [],
   "source": [
    "df = df.iloc[::-1] # Want to reverse the order of the dataframe, so top row is the earliest time... better for plotting"
   ]
  },
  {
   "cell_type": "code",
   "execution_count": 13,
   "metadata": {},
   "outputs": [],
   "source": [
    "df.to_csv(\"btc_data.csv\")"
   ]
  }
 ],
 "metadata": {
  "kernelspec": {
   "display_name": "Python 3 (ipykernel)",
   "language": "python",
   "name": "python3"
  },
  "language_info": {
   "codemirror_mode": {
    "name": "ipython",
    "version": 3
   },
   "file_extension": ".py",
   "mimetype": "text/x-python",
   "name": "python",
   "nbconvert_exporter": "python",
   "pygments_lexer": "ipython3",
   "version": "3.7.11"
  }
 },
 "nbformat": 4,
 "nbformat_minor": 2
}
